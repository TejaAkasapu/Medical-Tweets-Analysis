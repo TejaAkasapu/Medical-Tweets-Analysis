{
  "nbformat": 4,
  "nbformat_minor": 0,
  "metadata": {
    "colab": {
      "name": "SVM.ipynb",
      "provenance": [],
      "collapsed_sections": []
    },
    "kernelspec": {
      "name": "python3",
      "display_name": "Python 3"
    }
  },
  "cells": [
    {
      "cell_type": "code",
      "metadata": {
        "id": "DDwkT7kkcT_n",
        "colab_type": "code",
        "outputId": "42a9dd4d-9241-4b2e-82b4-9322f75a72d0",
        "colab": {
          "base_uri": "https://localhost:8080/",
          "height": 34
        }
      },
      "source": [
        "from google.colab import drive\n",
        "drive.mount('/content/gdrive')"
      ],
      "execution_count": 58,
      "outputs": [
        {
          "output_type": "stream",
          "text": [
            "Drive already mounted at /content/gdrive; to attempt to forcibly remount, call drive.mount(\"/content/gdrive\", force_remount=True).\n"
          ],
          "name": "stdout"
        }
      ]
    },
    {
      "cell_type": "code",
      "metadata": {
        "id": "FjMpy5SqsDhH",
        "colab_type": "code",
        "outputId": "3a735873-7b26-48b6-d426-e36fdba08d22",
        "colab": {
          "base_uri": "https://localhost:8080/",
          "height": 210
        }
      },
      "source": [
        "import nltk\n",
        "nltk.download('wordnet')\n",
        "nltk.download('averaged_perceptron_tagger')\n",
        "nltk.download('stopwords')\n",
        "nltk.download('punkt')"
      ],
      "execution_count": 59,
      "outputs": [
        {
          "output_type": "stream",
          "text": [
            "[nltk_data] Downloading package wordnet to /root/nltk_data...\n",
            "[nltk_data]   Package wordnet is already up-to-date!\n",
            "[nltk_data] Downloading package averaged_perceptron_tagger to\n",
            "[nltk_data]     /root/nltk_data...\n",
            "[nltk_data]   Package averaged_perceptron_tagger is already up-to-\n",
            "[nltk_data]       date!\n",
            "[nltk_data] Downloading package stopwords to /root/nltk_data...\n",
            "[nltk_data]   Package stopwords is already up-to-date!\n",
            "[nltk_data] Downloading package punkt to /root/nltk_data...\n",
            "[nltk_data]   Package punkt is already up-to-date!\n"
          ],
          "name": "stdout"
        },
        {
          "output_type": "execute_result",
          "data": {
            "text/plain": [
              "True"
            ]
          },
          "metadata": {
            "tags": []
          },
          "execution_count": 59
        }
      ]
    },
    {
      "cell_type": "code",
      "metadata": {
        "id": "opDXAZlYVi9b",
        "colab_type": "code",
        "outputId": "b6d32b2d-ff04-4ceb-dd03-9482a2564617",
        "colab": {
          "base_uri": "https://localhost:8080/",
          "height": 34
        }
      },
      "source": [
        "from nltk.corpus import wordnet as wn\n",
        "from nltk.stem.wordnet import WordNetLemmatizer\n",
        "from nltk import word_tokenize, pos_tag\n",
        "from collections import defaultdict\n",
        "tag_map = defaultdict(lambda : wn.NOUN)\n",
        "tag_map['J'] = wn.ADJ\n",
        "tag_map['V'] = wn.VERB\n",
        "tag_map['R'] = wn.ADV\n",
        "\n",
        "lemmatizer = WordNetLemmatizer()\n",
        "print(tag_map)\n",
        "\n",
        "def lemmatization(tweet):\n",
        "  tokens = word_tokenize(tweet)\n",
        "  tweet = ' '.join([lemmatizer.lemmatize(token, tag_map[tag[0]]) for token, tag in pos_tag(tokens)])\n",
        "  return tweet"
      ],
      "execution_count": 60,
      "outputs": [
        {
          "output_type": "stream",
          "text": [
            "defaultdict(<function <lambda> at 0x7f09559a51e0>, {'J': 'a', 'V': 'v', 'R': 'r'})\n"
          ],
          "name": "stdout"
        }
      ]
    },
    {
      "cell_type": "code",
      "metadata": {
        "id": "lHXqoEVqBYhJ",
        "colab_type": "code",
        "colab": {}
      },
      "source": [
        "import re\n",
        "import string\n",
        "from bs4 import BeautifulSoup\n",
        "from nltk.stem.wordnet import WordNetLemmatizer\n",
        "lemmatizer = WordNetLemmatizer()\n",
        "\n",
        "#for tweet in tweet_data:\n",
        "def preprocess_tweet(tweet):\n",
        "    # Clean the training data\n",
        "    # print(tweet)\n",
        "    \n",
        "    #Escaping HTML characters\n",
        "    tweet = BeautifulSoup(tweet).get_text()\n",
        "    \n",
        "    #lowercase\n",
        "    tweet = tweet.lower()\n",
        "    \n",
        "    #remove links\n",
        "    tweet = re.sub('((www\\.[^\\s]+)|(https?://[^\\s]+)|(http?://[^\\s]+))','',tweet)\n",
        "    \n",
        "    #Remove usernames\n",
        "    tweet = re.sub('@[^\\s]+','', tweet)\n",
        "    \n",
        "    # replace hashtags by just words\n",
        "    tweet = re.sub(r'#([^\\s]+)', r'\\1', tweet)\n",
        "    \n",
        "    #Removal of Punctuation\n",
        "    tweet = ' '.join(re.sub(\"[\\.\\,\\!\\?\\:\\;\\-\\=]\", \" \", tweet).split())\n",
        "    \n",
        "    #correct all multiple white spaces to a single white space\n",
        "    tweet = re.sub('[\\s]+', ' ', tweet)\n",
        "   \n",
        "    #remove space at the beginning and the end\n",
        "    tweet = tweet.strip()\n",
        "\n",
        "    #tweet = ''.join([lemmatizer.lemmatize(w) for w in tweet])\n",
        "    tweet = lemmatization(tweet)\n",
        "    \n",
        "    # print(tweet)\n",
        "    \n",
        "    return tweet"
      ],
      "execution_count": 0,
      "outputs": []
    },
    {
      "cell_type": "code",
      "metadata": {
        "id": "R90sVIxjcbg4",
        "colab_type": "code",
        "outputId": "00eee567-c54f-4d4b-c278-b3e670ade599",
        "colab": {
          "base_uri": "https://localhost:8080/",
          "height": 158
        }
      },
      "source": [
        "import pandas as pd\n",
        "import numpy as np\n",
        "import re\n",
        "\n",
        "usecols = (2,4)\n",
        "train_dataframe = pd.read_table(\"/content/gdrive/My Drive/Colab Notebooks/task1_training.tsv\",usecols=usecols)\n",
        "test_dataframe = pd.read_table(\"/content/gdrive/My Drive/task1_validation.tsv\",usecols=usecols)\n",
        "\n",
        "print(train_dataframe.shape)\n",
        "print(test_dataframe.shape)\n",
        "print(train_dataframe.head())"
      ],
      "execution_count": 62,
      "outputs": [
        {
          "output_type": "stream",
          "text": [
            "(55419, 2)\n",
            "(13853, 2)\n",
            "                                               tweet  class\n",
            "0  These new anti-anxiety meds make me so sleepy😴...      1\n",
            "1  @xmermaidmama you can try vitamins for Olivia!...      1\n",
            "2  Toby set up the humidifier for me in the room ...      1\n",
            "3  I'm an 8. They also just started me on pitocin...      1\n",
            "4  @sstuckeyy I didn't take prenatals at all, peo...      1\n"
          ],
          "name": "stdout"
        }
      ]
    },
    {
      "cell_type": "code",
      "metadata": {
        "id": "SMuc8e-sgAgA",
        "colab_type": "code",
        "outputId": "4cad1bf0-fe43-4461-bb2d-b7bb13a10c4d",
        "colab": {
          "base_uri": "https://localhost:8080/",
          "height": 122
        }
      },
      "source": [
        "print(train_dataframe['class'].value_counts())\n",
        "print(test_dataframe['class'].value_counts())"
      ],
      "execution_count": 63,
      "outputs": [
        {
          "output_type": "stream",
          "text": [
            "0    55273\n",
            "1      146\n",
            "Name: class, dtype: int64\n",
            "0    13818\n",
            "1       35\n",
            "Name: class, dtype: int64\n"
          ],
          "name": "stdout"
        }
      ]
    },
    {
      "cell_type": "code",
      "metadata": {
        "id": "1wR5BPBhcdam",
        "colab_type": "code",
        "outputId": "49927120-2cea-4682-d523-3e129b200646",
        "colab": {
          "base_uri": "https://localhost:8080/",
          "height": 122
        }
      },
      "source": [
        "train_data = train_dataframe.iloc[:, 0]\n",
        "train_label = train_dataframe.iloc[:, 1]\n",
        "test_data = test_dataframe.iloc[:, 0]\n",
        "test_label = test_dataframe.iloc[:, 1]\n",
        "print(train_data.shape)\n",
        "print(train_label.shape)\n",
        "print(test_data.shape)\n",
        "print(test_label.shape)\n",
        "print(train_data[0])\n",
        "print(test_data[0])"
      ],
      "execution_count": 64,
      "outputs": [
        {
          "output_type": "stream",
          "text": [
            "(55419,)\n",
            "(55419,)\n",
            "(13853,)\n",
            "(13853,)\n",
            "These new anti-anxiety meds make me so sleepy😴💤 Not sure if It will work out for me.. But I'm so tired of always switching meds 😒\n",
            "Cayden's already starting to open his eyes! The anesthesia might wear off sooner than we thought,… http://t.co/5sIVNKYfvi\n"
          ],
          "name": "stdout"
        }
      ]
    },
    {
      "cell_type": "code",
      "metadata": {
        "id": "asGqz-eFBelQ",
        "colab_type": "code",
        "outputId": "6e642004-dbe3-4291-8ffc-e9ed37d038cf",
        "colab": {
          "base_uri": "https://localhost:8080/",
          "height": 213
        }
      },
      "source": [
        "import warnings\n",
        "warnings.filterwarnings(\"ignore\", category=UserWarning, module='bs4')\n",
        "\n",
        "# print(train_data[0])\n",
        "for index, tweet in enumerate(train_data):\n",
        "  train_data[index] = preprocess_tweet(tweet)\n",
        "\n",
        "for index, tweet in enumerate(test_data):\n",
        "  test_data[index] = preprocess_tweet(tweet)"
      ],
      "execution_count": 65,
      "outputs": [
        {
          "output_type": "stream",
          "text": [
            "/usr/local/lib/python3.6/dist-packages/ipykernel_launcher.py:6: SettingWithCopyWarning: \n",
            "A value is trying to be set on a copy of a slice from a DataFrame\n",
            "\n",
            "See the caveats in the documentation: https://pandas.pydata.org/pandas-docs/stable/user_guide/indexing.html#returning-a-view-versus-a-copy\n",
            "  \n",
            "/usr/local/lib/python3.6/dist-packages/ipykernel_launcher.py:9: SettingWithCopyWarning: \n",
            "A value is trying to be set on a copy of a slice from a DataFrame\n",
            "\n",
            "See the caveats in the documentation: https://pandas.pydata.org/pandas-docs/stable/user_guide/indexing.html#returning-a-view-versus-a-copy\n",
            "  if __name__ == '__main__':\n"
          ],
          "name": "stderr"
        }
      ]
    },
    {
      "cell_type": "code",
      "metadata": {
        "id": "Kz7r8dABsaJY",
        "colab_type": "code",
        "outputId": "c06606dd-f8b0-4d54-c5ee-3c3b1520c158",
        "colab": {
          "base_uri": "https://localhost:8080/",
          "height": 52
        }
      },
      "source": [
        "print(train_data[0])\n",
        "print(test_data[0])"
      ],
      "execution_count": 66,
      "outputs": [
        {
          "output_type": "stream",
          "text": [
            "these new anti anxiety med make me so sleepy😴💤 not sure if it will work out for me but i 'm so tired of always switch med 😒\n",
            "cayden 's already start to open his eye the anesthesia might wear off sooner than we think …\n"
          ],
          "name": "stdout"
        }
      ]
    },
    {
      "cell_type": "code",
      "metadata": {
        "id": "FVyXCAzdcjCh",
        "colab_type": "code",
        "colab": {}
      },
      "source": [
        "from sklearn.feature_extraction.text import TfidfVectorizer\n",
        "# Create feature vectors\n",
        "vectorizer = TfidfVectorizer(#min_df = 5,\n",
        "                             max_df = 0.8,\n",
        "                             sublinear_tf = True,\n",
        "                             use_idf = True)\n",
        "train_vectors = vectorizer.fit_transform(train_data)\n",
        "test_vectors = vectorizer.transform(test_data)"
      ],
      "execution_count": 0,
      "outputs": []
    },
    {
      "cell_type": "code",
      "metadata": {
        "id": "GkF02PRpLKqF",
        "colab_type": "code",
        "outputId": "ec62db55-67b9-44be-f914-ff511d563ad9",
        "colab": {
          "base_uri": "https://localhost:8080/",
          "height": 142
        }
      },
      "source": [
        "from collections import Counter\n",
        "from sklearn.datasets import make_classification\n",
        "from imblearn.over_sampling import SMOTE\n",
        "from matplotlib import pyplot\n",
        "from numpy import where\n",
        "from imblearn.under_sampling import RandomUnderSampler\n",
        "from imblearn.pipeline import Pipeline\n",
        "\n",
        "counter = Counter(train_label)\n",
        "print(counter)\n",
        "\n",
        "# transform the dataset\n",
        "# oversample = SMOTE(random_state=777)\n",
        "# oversampled_train_data, oversampled_train_label = oversample.fit_resample(train_vectors, train_label)\n",
        "\n",
        "# rus = RandomUnderSampler(random_state=777)\n",
        "# oversampled_train_data, oversampled_train_label = rus.fit_sample(train_vectors, train_label)\n",
        "\n",
        "over = SMOTE(sampling_strategy=0.4)\n",
        "under = RandomUnderSampler(sampling_strategy=0.6) #0.3\n",
        "steps = [('o', over), ('u', under)]\n",
        "pipeline = Pipeline(steps=steps)\n",
        "\n",
        "oversampled_train_data, oversampled_train_label = pipeline.fit_resample(train_vectors, train_label)\n",
        "\n",
        "# summarize the new class distribution\n",
        "counter = Counter(oversampled_train_label)\n",
        "print(counter)"
      ],
      "execution_count": 68,
      "outputs": [
        {
          "output_type": "stream",
          "text": [
            "Counter({0: 55273, 1: 146})\n"
          ],
          "name": "stdout"
        },
        {
          "output_type": "stream",
          "text": [
            "/usr/local/lib/python3.6/dist-packages/sklearn/utils/deprecation.py:87: FutureWarning: Function safe_indexing is deprecated; safe_indexing is deprecated in version 0.22 and will be removed in version 0.24.\n",
            "  warnings.warn(msg, category=FutureWarning)\n"
          ],
          "name": "stderr"
        },
        {
          "output_type": "stream",
          "text": [
            "Counter({0: 36848, 1: 22109})\n"
          ],
          "name": "stdout"
        },
        {
          "output_type": "stream",
          "text": [
            "/usr/local/lib/python3.6/dist-packages/sklearn/utils/deprecation.py:87: FutureWarning: Function safe_indexing is deprecated; safe_indexing is deprecated in version 0.22 and will be removed in version 0.24.\n",
            "  warnings.warn(msg, category=FutureWarning)\n"
          ],
          "name": "stderr"
        }
      ]
    },
    {
      "cell_type": "code",
      "metadata": {
        "id": "N27pc6igcx7I",
        "colab_type": "code",
        "outputId": "b2de9642-c9a6-41ce-c2e7-5f3d570a8d6a",
        "colab": {
          "base_uri": "https://localhost:8080/",
          "height": 34
        }
      },
      "source": [
        "import time\n",
        "from sklearn import svm\n",
        "from sklearn.metrics import classification_report\n",
        "from sklearn.metrics import accuracy_score\n",
        "# Perform classification with SVM, kernel=linear\n",
        "model = svm.SVC(kernel='linear')\n",
        "t0 = time.time()\n",
        "model.fit(oversampled_train_data, oversampled_train_label)\n",
        "t1 = time.time()\n",
        "prediction_linear = model.predict(test_vectors)\n",
        "t2 = time.time()\n",
        "time_linear_train = t1-t0\n",
        "time_linear_predict = t2-t1\n",
        "# results\n",
        "print(\"Training time: %fs; Prediction time: %fs\" % (time_linear_train, time_linear_predict))\n"
      ],
      "execution_count": 69,
      "outputs": [
        {
          "output_type": "stream",
          "text": [
            "Training time: 56.568249s; Prediction time: 3.646920s\n"
          ],
          "name": "stdout"
        }
      ]
    },
    {
      "cell_type": "code",
      "metadata": {
        "id": "LdV5VARTe8qS",
        "colab_type": "code",
        "outputId": "729a6565-ee22-4657-fedc-c9f98a53c5b4",
        "colab": {
          "base_uri": "https://localhost:8080/",
          "height": 210
        }
      },
      "source": [
        "report = classification_report(test_label, prediction_linear, output_dict=True)\n",
        "print('ADR: ', report['1'])\n",
        "print('Non-ADR: ', report['0'])\n",
        "target_names = ['NON ADR', 'ADR']\n",
        "print(classification_report(test_label, prediction_linear, target_names=target_names))"
      ],
      "execution_count": 70,
      "outputs": [
        {
          "output_type": "stream",
          "text": [
            "ADR:  {'precision': 0.7916666666666666, 'recall': 0.5428571428571428, 'f1-score': 0.6440677966101694, 'support': 35}\n",
            "Non-ADR:  {'precision': 0.9988430110637067, 'recall': 0.9996381531335938, 'f1-score': 0.9992404239157955, 'support': 13818}\n",
            "              precision    recall  f1-score   support\n",
            "\n",
            "     NON ADR       1.00      1.00      1.00     13818\n",
            "         ADR       0.79      0.54      0.64        35\n",
            "\n",
            "    accuracy                           1.00     13853\n",
            "   macro avg       0.90      0.77      0.82     13853\n",
            "weighted avg       1.00      1.00      1.00     13853\n",
            "\n"
          ],
          "name": "stdout"
        }
      ]
    },
    {
      "cell_type": "code",
      "metadata": {
        "id": "pHI7MO-SFmpx",
        "colab_type": "code",
        "outputId": "cf9692c0-eec2-42d1-daec-fb3326d4a843",
        "colab": {
          "base_uri": "https://localhost:8080/",
          "height": 70
        }
      },
      "source": [
        "from sklearn.metrics import confusion_matrix\n",
        "from sklearn.metrics import accuracy_score\n",
        "\n",
        "acc = accuracy_score(test_label, prediction_linear)\n",
        "print(acc)\n",
        "\n",
        "cf_matrix = confusion_matrix(test_label, prediction_linear)\n",
        "print(cf_matrix)"
      ],
      "execution_count": 71,
      "outputs": [
        {
          "output_type": "stream",
          "text": [
            "0.9984840828701365\n",
            "[[13813     5]\n",
            " [   16    19]]\n"
          ],
          "name": "stdout"
        }
      ]
    },
    {
      "cell_type": "code",
      "metadata": {
        "id": "sFGe0eOpTHgN",
        "colab_type": "code",
        "outputId": "c403b65c-0dff-4580-c50a-8799cdbbaaf4",
        "colab": {
          "base_uri": "https://localhost:8080/",
          "height": 326
        }
      },
      "source": [
        "import seaborn as sns\n",
        "\n",
        "group_names = ['True Neg','False Pos','False Neg','True Pos']\n",
        "group_counts = ['{0:0.0f}'.format(value) for value in cf_matrix.flatten()]\n",
        "group_percentages = [\"{0:.2%}\".format(value) for value in cf_matrix.flatten()/np.sum(cf_matrix)]\n",
        "labels = [f\"{v1}\\n{v2}\\n{v3}\" for v1, v2, v3 in\n",
        "          zip(group_names,group_counts,group_percentages)]\n",
        "labels = np.asarray(labels).reshape(2,2)\n",
        "x_axis_labels = ['Non-ADR (0)', 'ADR (1)'] # labels for x-axis\n",
        "y_axis_labels = ['Non-ADR (0)', 'ADR (1)'] # labels for y-axis\n",
        "hm = sns.heatmap(cf_matrix, annot=labels, fmt='', xticklabels=x_axis_labels, yticklabels=y_axis_labels, cmap='Blues')\n",
        "hm.set_title('\\n Classification of adverse effects mentions in tweets\\n(Trained data by over and undersampling)\\n');"
      ],
      "execution_count": 72,
      "outputs": [
        {
          "output_type": "display_data",
          "data": {
            "image/png": "[encoded data removed]",
            "text/plain": [
              "<Figure size 432x288 with 2 Axes>"
            ]
          },
          "metadata": {
            "tags": [],
            "needs_background": "light"
          }
        }
      ]
    },
    {
      "cell_type": "code",
      "metadata": {
        "id": "bAlu3jsEXiAJ",
        "colab_type": "code",
        "colab": {}
      },
      "source": [
        "from sklearn.metrics import roc_curve\n",
        "from sklearn.metrics import roc_auc_score\n",
        "from matplotlib import pyplot"
      ],
      "execution_count": 0,
      "outputs": []
    },
    {
      "cell_type": "code",
      "metadata": {
        "colab_type": "code",
        "outputId": "4b70038f-5c96-43d8-af83-d24e7d9609fd",
        "id": "-My6Ej53a2jo",
        "colab": {
          "base_uri": "https://localhost:8080/",
          "height": 390
        }
      },
      "source": [
        "# calculate scores\n",
        "ns_probs = [0 for _ in range(len(test_label))]\n",
        "ns_auc = roc_auc_score(test_label, ns_probs)\n",
        "svm_auc = roc_auc_score(test_label, prediction_linear)\n",
        "# calculate roc curves\n",
        "ns_fpr, ns_tpr, _ = roc_curve(test_label, ns_probs)\n",
        "lr_fpr, lr_tpr, _ = roc_curve(test_label, prediction_linear)\n",
        "print('No Skill: ROC AUC=%.3f' % (ns_auc))\n",
        "print('SVM: ROC AUC=%.3f' % (svm_auc))\n",
        "# plot the roc curve for the model\n",
        "pyplot.plot(ns_fpr, ns_tpr, linestyle='--', label='No Skill: ROC AUC=%.3f'% (ns_auc))\n",
        "pyplot.plot(lr_fpr, lr_tpr, marker='.', label='SVM: ROC AUC=%.3f' % (svm_auc))\n",
        "# axis labels\n",
        "pyplot.xlabel('False Positive Rate')\n",
        "pyplot.ylabel('True Positive Rate')\n",
        "pyplot.title('\\n Classification of adverse effects mentions in tweets\\n(Trained data without over and undersampling)\\n\\n')\n",
        "# show the legend\n",
        "pyplot.legend()\n",
        "# show the plot\n",
        "pyplot.show()\n",
        "# summarize scores\n"
      ],
      "execution_count": 74,
      "outputs": [
        {
          "output_type": "stream",
          "text": [
            "No Skill: ROC AUC=0.500\n",
            "SVM: ROC AUC=0.771\n"
          ],
          "name": "stdout"
        },
        {
          "output_type": "display_data",
          "data": {
            "image/png": "[encoded data removed]",
            "text/plain": [
              "<Figure size 432x288 with 1 Axes>"
            ]
          },
          "metadata": {
            "tags": [],
            "needs_background": "light"
          }
        }
      ]
    },
    {
      "cell_type": "code",
      "metadata": {
        "id": "yvdfBIxkOuBM",
        "colab_type": "code",
        "colab": {}
      },
      "source": [
        "import pickle\n",
        "\n",
        "#\n",
        "# Create your model here (same as above)\n",
        "#\n",
        "\n",
        "# Save to file in the current working directory\n",
        "pkl_filename = \"pickle_model.pkl\"\n",
        "with open(pkl_filename, 'wb') as file:\n",
        "    pickle.dump(model, file)\n",
        "\n",
        "# Load from file\n",
        "with open(pkl_filename, 'rb') as file:\n",
        "    pickle_model = pickle.load(file)"
      ],
      "execution_count": 0,
      "outputs": []
    },
    {
      "cell_type": "code",
      "metadata": {
        "id": "6Qs0y8cVOt9e",
        "colab_type": "code",
        "colab": {}
      },
      "source": [
        "prediction = pickle_model.predict(test_vectors)"
      ],
      "execution_count": 0,
      "outputs": []
    },
    {
      "cell_type": "code",
      "metadata": {
        "id": "npCluKwMPZNE",
        "colab_type": "code",
        "colab": {
          "base_uri": "https://localhost:8080/",
          "height": 70
        },
        "outputId": "cd07f73a-e76c-4755-d343-b28a72272fdd"
      },
      "source": [
        "from sklearn.metrics import confusion_matrix\n",
        "from sklearn.metrics import accuracy_score\n",
        "\n",
        "acc = accuracy_score(test_label, prediction)\n",
        "print(acc)\n",
        "\n",
        "cf_matrix = confusion_matrix(test_label, prediction)\n",
        "print(cf_matrix)"
      ],
      "execution_count": 77,
      "outputs": [
        {
          "output_type": "stream",
          "text": [
            "0.9984840828701365\n",
            "[[13813     5]\n",
            " [   16    19]]\n"
          ],
          "name": "stdout"
        }
      ]
    }
  ]
}