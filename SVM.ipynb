{
  "nbformat": 4,
  "nbformat_minor": 0,
  "metadata": {
    "colab": {
      "name": "SVM.ipynb",
      "provenance": [],
      "collapsed_sections": []
    },
    "kernelspec": {
      "name": "python3",
      "display_name": "Python 3"
    }
  },
  "cells": [
    {
      "cell_type": "code",
      "metadata": {
        "id": "DDwkT7kkcT_n",
        "colab_type": "code",
        "outputId": "816f927c-0611-40db-a61f-24d7f3a2db87",
        "colab": {
          "base_uri": "https://localhost:8080/",
          "height": 125
        }
      },
      "source": [
        "from google.colab import drive\n",
        "drive.mount('/content/gdrive')"
      ],
      "execution_count": 0,
      "outputs": [
        {
          "output_type": "stream",
          "text": [
            "Go to this URL in a browser: https://accounts.google.com/o/oauth2/auth?client_id=947318989803-6bn6qk8qdgf4n4g3pfee6491hc0brc4i.apps.googleusercontent.com&redirect_uri=urn%3aietf%3awg%3aoauth%3a2.0%3aoob&response_type=code&scope=email%20https%3a%2f%2fwww.googleapis.com%2fauth%2fdocs.test%20https%3a%2f%2fwww.googleapis.com%2fauth%2fdrive%20https%3a%2f%2fwww.googleapis.com%2fauth%2fdrive.photos.readonly%20https%3a%2f%2fwww.googleapis.com%2fauth%2fpeopleapi.readonly\n",
            "\n",
            "Enter your authorization code:\n",
            "··········\n",
            "Mounted at /content/gdrive\n"
          ],
          "name": "stdout"
        }
      ]
    },
    {
      "cell_type": "code",
      "metadata": {
        "id": "FjMpy5SqsDhH",
        "colab_type": "code",
        "outputId": "85a85494-45e7-4407-c28a-2cdf7d0e8641",
        "colab": {
          "base_uri": "https://localhost:8080/",
          "height": 193
        }
      },
      "source": [
        "import nltk\n",
        "nltk.download('wordnet')\n",
        "nltk.download('averaged_perceptron_tagger')\n",
        "nltk.download('stopwords')\n",
        "nltk.download('punkt')"
      ],
      "execution_count": 0,
      "outputs": [
        {
          "output_type": "stream",
          "text": [
            "[nltk_data] Downloading package wordnet to /root/nltk_data...\n",
            "[nltk_data]   Unzipping corpora/wordnet.zip.\n",
            "[nltk_data] Downloading package averaged_perceptron_tagger to\n",
            "[nltk_data]     /root/nltk_data...\n",
            "[nltk_data]   Unzipping taggers/averaged_perceptron_tagger.zip.\n",
            "[nltk_data] Downloading package stopwords to /root/nltk_data...\n",
            "[nltk_data]   Unzipping corpora/stopwords.zip.\n",
            "[nltk_data] Downloading package punkt to /root/nltk_data...\n",
            "[nltk_data]   Unzipping tokenizers/punkt.zip.\n"
          ],
          "name": "stdout"
        },
        {
          "output_type": "execute_result",
          "data": {
            "text/plain": [
              "True"
            ]
          },
          "metadata": {
            "tags": []
          },
          "execution_count": 2
        }
      ]
    },
    {
      "cell_type": "code",
      "metadata": {
        "id": "opDXAZlYVi9b",
        "colab_type": "code",
        "outputId": "02dd5da8-1ff3-40ca-944f-5a143330a02d",
        "colab": {
          "base_uri": "https://localhost:8080/",
          "height": 34
        }
      },
      "source": [
        "from nltk.corpus import wordnet as wn\n",
        "from nltk.stem.wordnet import WordNetLemmatizer\n",
        "from nltk import word_tokenize, pos_tag\n",
        "from collections import defaultdict\n",
        "tag_map = defaultdict(lambda : wn.NOUN)\n",
        "tag_map['J'] = wn.ADJ\n",
        "tag_map['V'] = wn.VERB\n",
        "tag_map['R'] = wn.ADV\n",
        "\n",
        "lemmatizer = WordNetLemmatizer()\n",
        "print(tag_map)\n",
        "\n",
        "def lemmatization(tweet):\n",
        "  tokens = word_tokenize(tweet)\n",
        "  tweet = ' '.join([lemmatizer.lemmatize(token, tag_map[tag[0]]) for token, tag in pos_tag(tokens)])\n",
        "  return tweet"
      ],
      "execution_count": 0,
      "outputs": [
        {
          "output_type": "stream",
          "text": [
            "defaultdict(<function <lambda> at 0x7f319c616c80>, {'J': 'a', 'V': 'v', 'R': 'r'})\n"
          ],
          "name": "stdout"
        }
      ]
    },
    {
      "cell_type": "code",
      "metadata": {
        "id": "lHXqoEVqBYhJ",
        "colab_type": "code",
        "colab": {}
      },
      "source": [
        "import re\n",
        "import string\n",
        "from bs4 import BeautifulSoup\n",
        "from nltk.stem.wordnet import WordNetLemmatizer\n",
        "lemmatizer = WordNetLemmatizer()\n",
        "\n",
        "#for tweet in tweet_data:\n",
        "def preprocess_tweet(tweet):\n",
        "    # Clean the training data\n",
        "    # print(tweet)\n",
        "    \n",
        "    #Escaping HTML characters\n",
        "    tweet = BeautifulSoup(tweet).get_text()\n",
        "    \n",
        "    #lowercase\n",
        "    tweet = tweet.lower()\n",
        "    \n",
        "    #remove links\n",
        "    tweet = re.sub('((www\\.[^\\s]+)|(https?://[^\\s]+)|(http?://[^\\s]+))','',tweet)\n",
        "    \n",
        "    #Remove usernames\n",
        "    tweet = re.sub('@[^\\s]+','', tweet)\n",
        "    \n",
        "    # replace hashtags by just words\n",
        "    tweet = re.sub(r'#([^\\s]+)', r'\\1', tweet)\n",
        "    \n",
        "    #Removal of Punctuation\n",
        "    tweet = ' '.join(re.sub(\"[\\.\\,\\!\\?\\:\\;\\-\\=]\", \" \", tweet).split())\n",
        "    \n",
        "    #correct all multiple white spaces to a single white space\n",
        "    tweet = re.sub('[\\s]+', ' ', tweet)\n",
        "   \n",
        "    #remove space at the beginning and the end\n",
        "    tweet = tweet.strip()\n",
        "\n",
        "    #tweet = ''.join([lemmatizer.lemmatize(w) for w in tweet])\n",
        "    tweet = lemmatization(tweet)\n",
        "    \n",
        "    # print(tweet)\n",
        "    \n",
        "    return tweet"
      ],
      "execution_count": 0,
      "outputs": []
    },
    {
      "cell_type": "code",
      "metadata": {
        "id": "R90sVIxjcbg4",
        "colab_type": "code",
        "outputId": "340eb663-3860-4078-b92b-b930c85097a2",
        "colab": {
          "base_uri": "https://localhost:8080/",
          "height": 158
        }
      },
      "source": [
        "import pandas as pd\n",
        "import numpy as np\n",
        "import re\n",
        "\n",
        "usecols = (2,4)\n",
        "train_dataframe = pd.read_table(\"/content/gdrive/My Drive/Colab Notebooks/task1_training.tsv\",usecols=usecols)\n",
        "test_dataframe = pd.read_table(\"/content/gdrive/My Drive/task1_validation.tsv\",usecols=usecols)\n",
        "\n",
        "print(train_dataframe.shape)\n",
        "print(test_dataframe.shape)\n",
        "print(train_dataframe.head())"
      ],
      "execution_count": 0,
      "outputs": [
        {
          "output_type": "stream",
          "text": [
            "(55419, 2)\n",
            "(13853, 2)\n",
            "                                               tweet  class\n",
            "0  These new anti-anxiety meds make me so sleepy😴...      1\n",
            "1  @xmermaidmama you can try vitamins for Olivia!...      1\n",
            "2  Toby set up the humidifier for me in the room ...      1\n",
            "3  I'm an 8. They also just started me on pitocin...      1\n",
            "4  @sstuckeyy I didn't take prenatals at all, peo...      1\n"
          ],
          "name": "stdout"
        }
      ]
    },
    {
      "cell_type": "code",
      "metadata": {
        "id": "SMuc8e-sgAgA",
        "colab_type": "code",
        "outputId": "a2571bf2-39ab-4000-e8f5-8d44ac846000",
        "colab": {
          "base_uri": "https://localhost:8080/",
          "height": 122
        }
      },
      "source": [
        "print(train_dataframe['class'].value_counts())\n",
        "print(test_dataframe['class'].value_counts())"
      ],
      "execution_count": 0,
      "outputs": [
        {
          "output_type": "stream",
          "text": [
            "0    55273\n",
            "1      146\n",
            "Name: class, dtype: int64\n",
            "0    13818\n",
            "1       35\n",
            "Name: class, dtype: int64\n"
          ],
          "name": "stdout"
        }
      ]
    },
    {
      "cell_type": "code",
      "metadata": {
        "id": "1wR5BPBhcdam",
        "colab_type": "code",
        "outputId": "cecdee4d-0b35-4ec4-bfc6-e698a6a7d947",
        "colab": {
          "base_uri": "https://localhost:8080/",
          "height": 122
        }
      },
      "source": [
        "train_data = train_dataframe.iloc[:, 0]\n",
        "train_label = train_dataframe.iloc[:, 1]\n",
        "test_data = test_dataframe.iloc[:, 0]\n",
        "test_label = test_dataframe.iloc[:, 1]\n",
        "print(train_data.shape)\n",
        "print(train_label.shape)\n",
        "print(test_data.shape)\n",
        "print(test_label.shape)\n",
        "print(train_data[0])\n",
        "print(test_data[0])"
      ],
      "execution_count": 0,
      "outputs": [
        {
          "output_type": "stream",
          "text": [
            "(55419,)\n",
            "(55419,)\n",
            "(13853,)\n",
            "(13853,)\n",
            "These new anti-anxiety meds make me so sleepy😴💤 Not sure if It will work out for me.. But I'm so tired of always switching meds 😒\n",
            "Cayden's already starting to open his eyes! The anesthesia might wear off sooner than we thought,… http://t.co/5sIVNKYfvi\n"
          ],
          "name": "stdout"
        }
      ]
    },
    {
      "cell_type": "code",
      "metadata": {
        "id": "asGqz-eFBelQ",
        "colab_type": "code",
        "outputId": "490bdea4-bd6e-46b2-f47e-4b61acce41fe",
        "colab": {
          "base_uri": "https://localhost:8080/",
          "height": 193
        }
      },
      "source": [
        "import warnings\n",
        "warnings.filterwarnings(\"ignore\", category=UserWarning, module='bs4')\n",
        "\n",
        "# print(train_data[0])\n",
        "for index, tweet in enumerate(train_data):\n",
        "  train_data[index] = preprocess_tweet(tweet)\n",
        "\n",
        "for index, tweet in enumerate(test_data):\n",
        "  test_data[index] = preprocess_tweet(tweet)"
      ],
      "execution_count": 0,
      "outputs": [
        {
          "output_type": "stream",
          "text": [
            "/usr/local/lib/python3.6/dist-packages/ipykernel_launcher.py:6: SettingWithCopyWarning: \n",
            "A value is trying to be set on a copy of a slice from a DataFrame\n",
            "\n",
            "See the caveats in the documentation: https://pandas.pydata.org/pandas-docs/stable/user_guide/indexing.html#returning-a-view-versus-a-copy\n",
            "  \n",
            "/usr/local/lib/python3.6/dist-packages/ipykernel_launcher.py:9: SettingWithCopyWarning: \n",
            "A value is trying to be set on a copy of a slice from a DataFrame\n",
            "\n",
            "See the caveats in the documentation: https://pandas.pydata.org/pandas-docs/stable/user_guide/indexing.html#returning-a-view-versus-a-copy\n",
            "  if __name__ == '__main__':\n"
          ],
          "name": "stderr"
        }
      ]
    },
    {
      "cell_type": "code",
      "metadata": {
        "id": "Kz7r8dABsaJY",
        "colab_type": "code",
        "outputId": "85ee7148-5253-476a-c7fd-f66e1e13eb1f",
        "colab": {
          "base_uri": "https://localhost:8080/",
          "height": 52
        }
      },
      "source": [
        "print(train_data[0])\n",
        "print(test_data[0])"
      ],
      "execution_count": 0,
      "outputs": [
        {
          "output_type": "stream",
          "text": [
            "these new anti anxiety med make me so sleepy😴💤 not sure if it will work out for me but i 'm so tired of always switch med 😒\n",
            "cayden 's already start to open his eye the anesthesia might wear off sooner than we think …\n"
          ],
          "name": "stdout"
        }
      ]
    },
    {
      "cell_type": "code",
      "metadata": {
        "id": "FVyXCAzdcjCh",
        "colab_type": "code",
        "colab": {}
      },
      "source": [
        "from sklearn.feature_extraction.text import TfidfVectorizer\n",
        "# Create feature vectors\n",
        "vectorizer = TfidfVectorizer(#min_df = 5,\n",
        "                             max_df = 0.8,\n",
        "                             sublinear_tf = True,\n",
        "                             use_idf = True)\n",
        "train_vectors = vectorizer.fit_transform(train_data)\n",
        "test_vectors = vectorizer.transform(test_data)"
      ],
      "execution_count": 0,
      "outputs": []
    },
    {
      "cell_type": "code",
      "metadata": {
        "id": "GkF02PRpLKqF",
        "colab_type": "code",
        "outputId": "3769cff5-8ce4-4564-fc7d-80a16fbf8a7a",
        "colab": {
          "base_uri": "https://localhost:8080/",
          "height": 213
        }
      },
      "source": [
        "from collections import Counter\n",
        "from sklearn.datasets import make_classification\n",
        "from imblearn.over_sampling import SMOTE\n",
        "from matplotlib import pyplot\n",
        "from numpy import where\n",
        "from imblearn.under_sampling import RandomUnderSampler\n",
        "from imblearn.pipeline import Pipeline\n",
        "\n",
        "counter = Counter(train_label)\n",
        "print(counter)\n",
        "\n",
        "# transform the dataset\n",
        "# oversample = SMOTE(random_state=777)\n",
        "# oversampled_train_data, oversampled_train_label = oversample.fit_resample(train_vectors, train_label)\n",
        "\n",
        "# rus = RandomUnderSampler(random_state=777)\n",
        "# oversampled_train_data, oversampled_train_label = rus.fit_sample(train_vectors, train_label)\n",
        "\n",
        "over = SMOTE(sampling_strategy=0.4)\n",
        "under = RandomUnderSampler(sampling_strategy=0.6) #0.3\n",
        "steps = [('o', over), ('u', under)]\n",
        "pipeline = Pipeline(steps=steps)\n",
        "\n",
        "oversampled_train_data, oversampled_train_label = pipeline.fit_resample(train_vectors, train_label)\n",
        "\n",
        "# summarize the new class distribution\n",
        "counter = Counter(oversampled_train_label)\n",
        "print(counter)"
      ],
      "execution_count": 0,
      "outputs": [
        {
          "output_type": "stream",
          "text": [
            "/usr/local/lib/python3.6/dist-packages/sklearn/externals/six.py:31: FutureWarning: The module is deprecated in version 0.21 and will be removed in version 0.23 since we've dropped support for Python 2.7. Please rely on the official version of six (https://pypi.org/project/six/).\n",
            "  \"(https://pypi.org/project/six/).\", FutureWarning)\n",
            "/usr/local/lib/python3.6/dist-packages/sklearn/utils/deprecation.py:144: FutureWarning: The sklearn.neighbors.base module is  deprecated in version 0.22 and will be removed in version 0.24. The corresponding classes / functions should instead be imported from sklearn.neighbors. Anything that cannot be imported from sklearn.neighbors is now part of the private API.\n",
            "  warnings.warn(message, FutureWarning)\n"
          ],
          "name": "stderr"
        },
        {
          "output_type": "stream",
          "text": [
            "Counter({0: 55273, 1: 146})\n"
          ],
          "name": "stdout"
        },
        {
          "output_type": "stream",
          "text": [
            "/usr/local/lib/python3.6/dist-packages/sklearn/utils/deprecation.py:87: FutureWarning: Function safe_indexing is deprecated; safe_indexing is deprecated in version 0.22 and will be removed in version 0.24.\n",
            "  warnings.warn(msg, category=FutureWarning)\n"
          ],
          "name": "stderr"
        },
        {
          "output_type": "stream",
          "text": [
            "Counter({0: 36848, 1: 22109})\n"
          ],
          "name": "stdout"
        },
        {
          "output_type": "stream",
          "text": [
            "/usr/local/lib/python3.6/dist-packages/sklearn/utils/deprecation.py:87: FutureWarning: Function safe_indexing is deprecated; safe_indexing is deprecated in version 0.22 and will be removed in version 0.24.\n",
            "  warnings.warn(msg, category=FutureWarning)\n"
          ],
          "name": "stderr"
        }
      ]
    },
    {
      "cell_type": "code",
      "metadata": {
        "id": "N27pc6igcx7I",
        "colab_type": "code",
        "outputId": "23638e5e-f8b9-4cca-b564-d4d2ebbb412a",
        "colab": {
          "base_uri": "https://localhost:8080/",
          "height": 34
        }
      },
      "source": [
        "import time\n",
        "from sklearn import svm\n",
        "from sklearn.metrics import classification_report\n",
        "from sklearn.metrics import accuracy_score\n",
        "# Perform classification with SVM, kernel=linear\n",
        "classifier_linear = svm.SVC(kernel='linear')\n",
        "t0 = time.time()\n",
        "classifier_linear.fit(oversampled_train_data, oversampled_train_label)\n",
        "t1 = time.time()\n",
        "prediction_linear = classifier_linear.predict(test_vectors)\n",
        "t2 = time.time()\n",
        "time_linear_train = t1-t0\n",
        "time_linear_predict = t2-t1\n",
        "# results\n",
        "print(\"Training time: %fs; Prediction time: %fs\" % (time_linear_train, time_linear_predict))\n"
      ],
      "execution_count": 0,
      "outputs": [
        {
          "output_type": "stream",
          "text": [
            "Training time: 55.779765s; Prediction time: 3.539454s\n"
          ],
          "name": "stdout"
        }
      ]
    },
    {
      "cell_type": "code",
      "metadata": {
        "id": "LdV5VARTe8qS",
        "colab_type": "code",
        "outputId": "e96798bc-bc24-42ca-9f07-27a4876ad48c",
        "colab": {
          "base_uri": "https://localhost:8080/",
          "height": 210
        }
      },
      "source": [
        "report = classification_report(test_label, prediction_linear, output_dict=True)\n",
        "print('ADR: ', report['1'])\n",
        "print('Non-ADR: ', report['0'])\n",
        "target_names = ['NON ADR', 'ADR']\n",
        "print(classification_report(test_label, prediction_linear, target_names=target_names))"
      ],
      "execution_count": 0,
      "outputs": [
        {
          "output_type": "stream",
          "text": [
            "ADR:  {'precision': 0.8076923076923077, 'recall': 0.6, 'f1-score': 0.6885245901639345, 'support': 35}\n",
            "Non-ADR:  {'precision': 0.9989874882476314, 'recall': 0.9996381531335938, 'f1-score': 0.9993127147766323, 'support': 13818}\n",
            "              precision    recall  f1-score   support\n",
            "\n",
            "     NON ADR       1.00      1.00      1.00     13818\n",
            "         ADR       0.81      0.60      0.69        35\n",
            "\n",
            "    accuracy                           1.00     13853\n",
            "   macro avg       0.90      0.80      0.84     13853\n",
            "weighted avg       1.00      1.00      1.00     13853\n",
            "\n"
          ],
          "name": "stdout"
        }
      ]
    },
    {
      "cell_type": "code",
      "metadata": {
        "id": "pHI7MO-SFmpx",
        "colab_type": "code",
        "outputId": "c7d300da-17ba-46df-a8c4-c656b03523f5",
        "colab": {
          "base_uri": "https://localhost:8080/",
          "height": 70
        }
      },
      "source": [
        "from sklearn.metrics import confusion_matrix\n",
        "from sklearn.metrics import accuracy_score\n",
        "\n",
        "acc = accuracy_score(test_label, prediction_linear)\n",
        "print(acc)\n",
        "\n",
        "cf_matrix = confusion_matrix(test_label, prediction_linear)\n",
        "print(cf_matrix)"
      ],
      "execution_count": 0,
      "outputs": [
        {
          "output_type": "stream",
          "text": [
            "0.9986284559301234\n",
            "[[13813     5]\n",
            " [   14    21]]\n"
          ],
          "name": "stdout"
        }
      ]
    },
    {
      "cell_type": "code",
      "metadata": {
        "id": "sFGe0eOpTHgN",
        "colab_type": "code",
        "outputId": "9ccb17c9-2f8e-47c8-9b61-5e4b925a0969",
        "colab": {
          "base_uri": "https://localhost:8080/",
          "height": 326
        }
      },
      "source": [
        "import seaborn as sns\n",
        "\n",
        "group_names = ['True Neg','False Pos','False Neg','True Pos']\n",
        "group_counts = ['{0:0.0f}'.format(value) for value in cf_matrix.flatten()]\n",
        "group_percentages = [\"{0:.2%}\".format(value) for value in cf_matrix.flatten()/np.sum(cf_matrix)]\n",
        "labels = [f\"{v1}\\n{v2}\\n{v3}\" for v1, v2, v3 in\n",
        "          zip(group_names,group_counts,group_percentages)]\n",
        "labels = np.asarray(labels).reshape(2,2)\n",
        "x_axis_labels = ['Non-ADR (0)', 'ADR (1)'] # labels for x-axis\n",
        "y_axis_labels = ['Non-ADR (0)', 'ADR (1)'] # labels for y-axis\n",
        "hm = sns.heatmap(cf_matrix, annot=labels, fmt='', xticklabels=x_axis_labels, yticklabels=y_axis_labels, cmap='Blues')\n",
        "hm.set_title('\\n Classification of adverse effects mentions in tweets\\n(Trained data by over and undersampling)\\n');"
      ],
      "execution_count": 0,
      "outputs": [
        {
          "output_type": "display_data",
          "data": {
            "image/png": "[encoded data removed]",
            "text/plain": [
              "<Figure size 432x288 with 2 Axes>"
            ]
          },
          "metadata": {
            "tags": []
          }
        }
      ]
    },
    {
      "cell_type": "code",
      "metadata": {
        "id": "bAlu3jsEXiAJ",
        "colab_type": "code",
        "colab": {}
      },
      "source": [
        "from sklearn.metrics import roc_curve\n",
        "from sklearn.metrics import roc_auc_score\n",
        "from matplotlib import pyplot"
      ],
      "execution_count": 0,
      "outputs": []
    },
    {
      "cell_type": "code",
      "metadata": {
        "colab_type": "code",
        "outputId": "2c184d52-934d-4b59-d23f-02b3a3894396",
        "id": "-My6Ej53a2jo",
        "colab": {
          "base_uri": "https://localhost:8080/",
          "height": 390
        }
      },
      "source": [
        "# calculate scores\n",
        "ns_probs = [0 for _ in range(len(test_label))]\n",
        "ns_auc = roc_auc_score(test_label, ns_probs)\n",
        "svm_auc = roc_auc_score(test_label, prediction_linear)\n",
        "# calculate roc curves\n",
        "ns_fpr, ns_tpr, _ = roc_curve(test_label, ns_probs)\n",
        "lr_fpr, lr_tpr, _ = roc_curve(test_label, prediction_linear)\n",
        "print('No Skill: ROC AUC=%.3f' % (ns_auc))\n",
        "print('SVM: ROC AUC=%.3f' % (svm_auc))\n",
        "# plot the roc curve for the model\n",
        "pyplot.plot(ns_fpr, ns_tpr, linestyle='--', label='No Skill: ROC AUC=%.3f'% (ns_auc))\n",
        "pyplot.plot(lr_fpr, lr_tpr, marker='.', label='SVM: ROC AUC=%.3f' % (svm_auc))\n",
        "# axis labels\n",
        "pyplot.xlabel('False Positive Rate')\n",
        "pyplot.ylabel('True Positive Rate')\n",
        "pyplot.title('\\n Classification of adverse effects mentions in tweets\\n(Trained data without over and undersampling)\\n\\n')\n",
        "# show the legend\n",
        "pyplot.legend()\n",
        "# show the plot\n",
        "pyplot.show()\n",
        "# summarize scores\n"
      ],
      "execution_count": 0,
      "outputs": [
        {
          "output_type": "stream",
          "text": [
            "No Skill: ROC AUC=0.500\n",
            "SVM: ROC AUC=0.800\n"
          ],
          "name": "stdout"
        },
        {
          "output_type": "display_data",
          "data": {
            "image/png": "[encoded data removed]",
            "text/plain": [
              "<Figure size 432x288 with 1 Axes>"
            ]
          },
          "metadata": {
            "tags": []
          }
        }
      ]
    }
  ]
}